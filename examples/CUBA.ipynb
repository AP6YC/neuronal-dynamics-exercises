{
 "cells": [
  {
   "cell_type": "code",
   "execution_count": null,
   "source": [
    "from brian2 import *\r\n",
    "\r\n",
    "prefs.codegen.target = \"numpy\"\r\n",
    "\r\n",
    "taum = 20*ms\r\n",
    "taue = 5*ms\r\n",
    "taui = 10*ms\r\n",
    "Vt = -50*mV\r\n",
    "Vr = -60*mV\r\n",
    "El = -49*mV\r\n",
    "\r\n",
    "eqs = '''\r\n",
    "dv/dt  = (ge+gi-(v-El))/taum : volt (unless refractory)\r\n",
    "dge/dt = -ge/taue : volt\r\n",
    "dgi/dt = -gi/taui : volt\r\n",
    "'''\r\n",
    "\r\n",
    "P = NeuronGroup(4000, eqs, threshold='v>Vt', reset='v = Vr', refractory=5*ms,\r\n",
    "                method='exact')\r\n",
    "P.v = 'Vr + rand() * (Vt - Vr)'\r\n",
    "P.ge = 0*mV\r\n",
    "P.gi = 0*mV\r\n",
    "\r\n",
    "we = (60*0.27/10)*mV # excitatory synaptic weight (voltage)\r\n",
    "wi = (-20*4.5/10)*mV # inhibitory synaptic weight\r\n",
    "Ce = Synapses(P, P, on_pre='ge += we')\r\n",
    "Ci = Synapses(P, P, on_pre='gi += wi')\r\n",
    "Ce.connect('i<3200', p=0.02)\r\n",
    "Ci.connect('i>=3200', p=0.02)\r\n",
    "\r\n",
    "s_mon = SpikeMonitor(P)\r\n",
    "\r\n",
    "run(1 * second)\r\n",
    "\r\n",
    "plot(s_mon.t/ms, s_mon.i, ',k')\r\n",
    "xlabel('Time (ms)')\r\n",
    "ylabel('Neuron index')\r\n",
    "show()"
   ],
   "outputs": [],
   "metadata": {}
  }
 ],
 "metadata": {
  "orig_nbformat": 4,
  "language_info": {
   "name": "python",
   "version": "3.6.13"
  },
  "kernelspec": {
   "name": "python3",
   "display_name": "Python 3.6.13 64-bit ('bmnn': conda)"
  },
  "interpreter": {
   "hash": "6a2dc88848faf9b992dd13d616dcf5307917a79b1221b76744237caf9ee27f6e"
  }
 },
 "nbformat": 4,
 "nbformat_minor": 2
}