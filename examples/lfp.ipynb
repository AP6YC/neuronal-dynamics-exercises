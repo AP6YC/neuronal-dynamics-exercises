{
 "cells": [
  {
   "cell_type": "code",
   "execution_count": 1,
   "source": [
    "from brian2 import *\r\n",
    "prefs.codegen.target = \"numpy\"\r\n",
    "\r\n",
    "defaultclock.dt = 0.01*ms\r\n",
    "morpho = Cylinder(x=[0, 10]*cm, diameter=2*238*um, n=1000, type='axon')\r\n",
    "\r\n",
    "El = 10.613* mV\r\n",
    "ENa = 115*mV\r\n",
    "EK = -12*mV\r\n",
    "gl = 0.3*msiemens/cm**2\r\n",
    "gNa0 = 120*msiemens/cm**2\r\n",
    "gK = 36*msiemens/cm**2\r\n",
    "\r\n",
    "# Typical equations\r\n",
    "eqs = '''\r\n",
    "# The same equations for the whole neuron, but possibly different parameter values\r\n",
    "# distributed transmembrane current\r\n",
    "Im = gl * (El-v) + gNa * m**3 * h * (ENa-v) + gK * n**4 * (EK-v) : amp/meter**2\r\n",
    "I : amp (point current) # applied current\r\n",
    "dm/dt = alpham * (1-m) - betam * m : 1\r\n",
    "dn/dt = alphan * (1-n) - betan * n : 1\r\n",
    "dh/dt = alphah * (1-h) - betah * h : 1\r\n",
    "alpham = (0.1/mV) * 10*mV/exprel((-v+25*mV)/(10*mV))/ms : Hz\r\n",
    "betam = 4 * exp(-v/(18*mV))/ms : Hz\r\n",
    "alphah = 0.07 * exp(-v/(20*mV))/ms : Hz\r\n",
    "betah = 1/(exp((-v+30*mV) / (10*mV)) + 1)/ms : Hz\r\n",
    "alphan = (0.01/mV) * 10*mV/exprel((-v+10*mV)/(10*mV))/ms : Hz\r\n",
    "betan = 0.125*exp(-v/(80*mV))/ms : Hz\r\n",
    "gNa : siemens/meter**2\r\n",
    "'''\r\n",
    "\r\n",
    "neuron = SpatialNeuron(morphology=morpho, model=eqs, Cm=1*uF/cm**2,\r\n",
    "                       Ri=35.4*ohm*cm, method=\"exponential_euler\")\r\n",
    "neuron.v = 0*mV\r\n",
    "neuron.h = 1\r\n",
    "neuron.m = 0\r\n",
    "neuron.n = .5\r\n",
    "neuron.I = 0\r\n",
    "neuron.gNa = gNa0\r\n",
    "neuron[5*cm:10*cm].gNa = 0*siemens/cm**2\r\n",
    "M = StateMonitor(neuron, 'v', record=True)\r\n",
    "\r\n",
    "# LFP recorder\r\n",
    "Ne = 5 # Number of electrodes\r\n",
    "sigma = 0.3*siemens/meter # Resistivity of extracellular field (0.3-0.4 S/m)\r\n",
    "lfp = NeuronGroup(Ne, model='''v : volt\r\n",
    "                               x : meter\r\n",
    "                               y : meter\r\n",
    "                               z : meter''')\r\n",
    "lfp.x = 7*cm # Off center (to be far from stimulating electrode)\r\n",
    "lfp.y = [1*mm, 2*mm, 4*mm, 8*mm, 16*mm]\r\n",
    "S = Synapses(neuron, lfp, model='''w : ohm*meter**2 (constant) # Weight in the LFP calculation\r\n",
    "                                   v_post = w*(Ic_pre-Im_pre) : volt (summed)''')\r\n",
    "S.summed_updaters['v_post'].when = 'after_groups'  # otherwise Ic has not yet been updated for the current time step.\r\n",
    "S.connect()\r\n",
    "S.w = 'area_pre/(4*pi*sigma)/((x_pre-x_post)**2+(y_pre-y_post)**2+(z_pre-z_post)**2)**.5'\r\n",
    "\r\n",
    "Mlfp = StateMonitor(lfp, 'v', record=True)\r\n",
    "\r\n",
    "run(50*ms, report='text')\r\n",
    "neuron.I[0] = 1*uA  # current injection at one end\r\n",
    "run(3*ms)\r\n",
    "neuron.I = 0*amp\r\n",
    "run(100*ms, report='text')\r\n",
    "\r\n",
    "subplot(211)\r\n",
    "for i in range(10):\r\n",
    "    plot(M.t/ms, M.v[i*100]/mV)\r\n",
    "ylabel('$V_m$ (mV)')\r\n",
    "subplot(212)\r\n",
    "for i in range(5):\r\n",
    "    plot(M.t/ms, Mlfp.v[i]/mV)\r\n",
    "ylabel('LFP (mV)')\r\n",
    "xlabel('Time (ms)')\r\n",
    "show()"
   ],
   "outputs": [
    {
     "output_type": "stream",
     "name": "stderr",
     "text": [
      "cl : Command line warning D9025 : overriding '/W3' with '/w'\n",
      "WARNING    Cannot use Cython, a test compilation failed: command 'C:\\\\Program Files (x86)\\\\Microsoft Visual Studio\\\\2019\\\\BuildTools\\\\VC\\\\Tools\\\\MSVC\\\\14.29.30133\\\\bin\\\\Hostx64\\\\x64\\\\link.exe' failed with exit status 1158 (LinkError) [brian2.codegen.runtime.cython_rt.cython_rt.failed_compile_test]\n",
      "INFO       Cannot use compiled code, falling back to the numpy code generation target. Note that this will likely be slower than using compiled code. Set the code generation to numpy manually to avoid this message:\n",
      "prefs.codegen.target = \"numpy\" [brian2.devices.device.codegen_fallback]\n"
     ]
    },
    {
     "output_type": "stream",
     "name": "stdout",
     "text": [
      "_cython_magic_d86ef16f67ad21c26a6d872024b8c14b.cpp\n",
      "   Creating library C:\\Users\\Sasha\\.cython\\brian_extensions\\Users\\Sasha\\.cython\\brian_extensions\\_cython_magic_d86ef16f67ad21c26a6d872024b8c14b.cp36-win_amd64.lib and object C:\\Users\\Sasha\\.cython\\brian_extensions\\Users\\Sasha\\.cython\\brian_extensions\\_cython_magic_d86ef16f67ad21c26a6d872024b8c14b.cp36-win_amd64.exp\n",
      "Generating code\n",
      "Finished generating code\n",
      "LINK : fatal error LNK1158: cannot run 'rc.exe'\n",
      "Starting simulation at t=0. s for a duration of 50. ms\n",
      "50. ms (100%) simulated in 5s\n",
      "Starting simulation at t=53. ms for a duration of 100. ms\n"
     ]
    }
   ],
   "metadata": {}
  }
 ],
 "metadata": {
  "orig_nbformat": 4,
  "language_info": {
   "name": "python",
   "version": "3.6.13",
   "mimetype": "text/x-python",
   "codemirror_mode": {
    "name": "ipython",
    "version": 3
   },
   "pygments_lexer": "ipython3",
   "nbconvert_exporter": "python",
   "file_extension": ".py"
  },
  "kernelspec": {
   "name": "python3",
   "display_name": "Python 3.6.13 64-bit ('bmnn': conda)"
  },
  "interpreter": {
   "hash": "6a2dc88848faf9b992dd13d616dcf5307917a79b1221b76744237caf9ee27f6e"
  }
 },
 "nbformat": 4,
 "nbformat_minor": 2
}